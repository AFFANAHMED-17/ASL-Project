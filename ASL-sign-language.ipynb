{
 "cells": [
  {
   "cell_type": "code",
   "execution_count": 1,
   "id": "5d3fd83a-d2db-411e-9f29-52217c62acf9",
   "metadata": {},
   "outputs": [],
   "source": [
    "import os\n",
    "import cv2\n",
    "import numpy as np\n",
    "import tensorflow as tf\n",
    "from sklearn.model_selection import train_test_split\n",
    "from sklearn.metrics import classification_report, confusion_matrix\n",
    "import matplotlib.pyplot as plt\n",
    "import seaborn as sns\n"
   ]
  },
  {
   "cell_type": "code",
   "execution_count": 2,
   "id": "f1d41328-6a68-406c-8f55-d42da285fb28",
   "metadata": {},
   "outputs": [],
   "source": [
    "\n",
    "# Function to load images and labels from a given directory\n",
    "def load_asl_alphabet(data_dir):\n",
    "    images = []\n",
    "    labels = []\n",
    "    label_map = {}\n",
    "\n",
    "    for label, letter_dir in enumerate(os.listdir(data_dir)):\n",
    "        letter_path = os.path.join(data_dir, letter_dir)\n",
    "        \n",
    "        if os.path.isdir(letter_path):\n",
    "            label_map[label] = letter_dir  # Store label mapping\n",
    "\n",
    "            for img_file in os.listdir(letter_path):\n",
    "                img_path = os.path.join(letter_path, img_file)\n",
    "                img = cv2.imread(img_path)\n",
    "\n",
    "                if img is not None:  # Check if image is loaded\n",
    "                    img = cv2.resize(img, (64, 64))  # Resize image to 64x64\n",
    "                    img = img / 255.0  # Normalize the image\n",
    "                    images.append(img)\n",
    "                    labels.append(label)\n",
    "\n",
    "    return np.array(images), np.array(labels), label_map\n"
   ]
  },
  {
   "cell_type": "code",
   "execution_count": 3,
   "id": "74a85db9-ecff-4423-b157-51141d85838c",
   "metadata": {},
   "outputs": [],
   "source": [
    "\n",
    "# Load the training dataset\n",
    "asl_train_directory = r\"D:\\Sign-language-detection\\sign_language_dataset\\ASL_Alphabet\\asl_alphabet_train\\asl_alphabet_train\"\n",
    "X_train_asl, y_train_asl, asl_label_map = load_asl_alphabet(asl_train_directory)\n",
    "\n",
    "# Load the testing dataset\n",
    "asl_test_directory = r\"D:\\Sign-language-detection\\sign_language_dataset\\ASL_Alphabet\\asl_alphabet_test\\asl_alphabet_test\"\n",
    "X_test_asl, y_test_asl, _ = load_asl_alphabet(asl_test_directory)\n"
   ]
  },
  {
   "cell_type": "code",
   "execution_count": 4,
   "id": "de2a307a-01f9-4e27-ba0e-52b0f995f32b",
   "metadata": {},
   "outputs": [],
   "source": [
    "\n",
    "# Check if test data was loaded successfully\n",
    "if X_test_asl.size == 0 or y_test_asl.size == 0:\n",
    "    print(\"Warning: Test dataset is empty. Check the directory and ensure images are available.\")\n",
    "else:\n",
    "    # Optionally split the training dataset further if needed\n",
    "    X_train, X_val, y_train, y_val = train_test_split(X_train_asl, y_train_asl, test_size=0.2, random_state=42)\n"
   ]
  },
  {
   "cell_type": "code",
   "execution_count": 5,
   "id": "358f79de-81c8-4954-acbb-6e7ef7cd66e9",
   "metadata": {},
   "outputs": [
    {
     "name": "stdout",
     "output_type": "stream",
     "text": [
      "Shape of X_test_asl: (5, 64, 64, 3)\n",
      "Shape of y_test_asl: (5,)\n",
      "Training Data: (3992, 64, 64, 3), Training Labels: (3992,)\n",
      "Validation Data: (999, 64, 64, 3), Validation Labels: (999,)\n",
      "Testing Data: (5, 64, 64, 3), Testing Labels: (5,)\n"
     ]
    }
   ],
   "source": [
    "\n",
    "    # Debugging the shapes of the test data\n",
    "print(f\"Shape of X_test_asl: {X_test_asl.shape}\")  # Expected: (num_samples, 64, 64, 3)\n",
    "print(f\"Shape of y_test_asl: {y_test_asl.shape}\")  # Expected: (num_samples,)\n",
    "    # Print shape of datasets for verification\n",
    "print(f\"Training Data: {X_train.shape}, Training Labels: {y_train.shape}\")\n",
    "print(f\"Validation Data: {X_val.shape}, Validation Labels: {y_val.shape}\")\n",
    "print(f\"Testing Data: {X_test_asl.shape}, Testing Labels: {y_test_asl.shape}\")\n"
   ]
  },
  {
   "cell_type": "code",
   "execution_count": 6,
   "id": "864eedf3-5edf-465c-b1d5-e5b367e3bd50",
   "metadata": {},
   "outputs": [
    {
     "name": "stderr",
     "output_type": "stream",
     "text": [
      "D:\\anaconda\\Lib\\site-packages\\keras\\src\\layers\\convolutional\\base_conv.py:107: UserWarning: Do not pass an `input_shape`/`input_dim` argument to a layer. When using Sequential models, prefer using an `Input(shape)` object as the first layer in the model instead.\n",
      "  super().__init__(activity_regularizer=activity_regularizer, **kwargs)\n"
     ]
    }
   ],
   "source": [
    " # Define the CNN model\n",
    "model = tf.keras.Sequential([\n",
    "    tf.keras.layers.Conv2D(32, (3, 3), activation='relu', input_shape=(64, 64, 3)),\n",
    "    tf.keras.layers.MaxPooling2D(pool_size=(2, 2)),\n",
    "    tf.keras.layers.Conv2D(64, (3, 3), activation='relu'),\n",
    "    tf.keras.layers.MaxPooling2D(pool_size=(2, 2)),\n",
    "    tf.keras.layers.Conv2D(128, (3, 3), activation='relu'),\n",
    "    tf.keras.layers.MaxPooling2D(pool_size=(2, 2)),\n",
    "    tf.keras.layers.Flatten(),\n",
    "    tf.keras.layers.Dense(128, activation='relu'),\n",
    "    tf.keras.layers.Dense(len(asl_label_map), activation='softmax')  # Output layer for number of classes\n",
    "])\n"
   ]
  },
  {
   "cell_type": "code",
   "execution_count": 7,
   "id": "036505e3-fcd0-4297-bcfd-3fb7d9e5d0f4",
   "metadata": {},
   "outputs": [],
   "source": [
    "# Compile the model\n",
    "model.compile(optimizer='adam', loss='sparse_categorical_crossentropy', metrics=['accuracy'])\n"
   ]
  },
  {
   "cell_type": "code",
   "execution_count": 8,
   "id": "6f03ae61-b5b6-46a3-b376-4917e0b728b7",
   "metadata": {},
   "outputs": [
    {
     "name": "stdout",
     "output_type": "stream",
     "text": [
      "Epoch 1/10\n",
      "\u001b[1m125/125\u001b[0m \u001b[32m━━━━━━━━━━━━━━━━━━━━\u001b[0m\u001b[37m\u001b[0m \u001b[1m8s\u001b[0m 49ms/step - accuracy: 0.4466 - loss: 1.2657 - val_accuracy: 0.8368 - val_loss: 0.4282\n",
      "Epoch 2/10\n",
      "\u001b[1m125/125\u001b[0m \u001b[32m━━━━━━━━━━━━━━━━━━━━\u001b[0m\u001b[37m\u001b[0m \u001b[1m6s\u001b[0m 44ms/step - accuracy: 0.9255 - loss: 0.2361 - val_accuracy: 0.9399 - val_loss: 0.1489\n",
      "Epoch 3/10\n",
      "\u001b[1m125/125\u001b[0m \u001b[32m━━━━━━━━━━━━━━━━━━━━\u001b[0m\u001b[37m\u001b[0m \u001b[1m6s\u001b[0m 47ms/step - accuracy: 0.9698 - loss: 0.0896 - val_accuracy: 0.9590 - val_loss: 0.1139\n",
      "Epoch 4/10\n",
      "\u001b[1m125/125\u001b[0m \u001b[32m━━━━━━━━━━━━━━━━━━━━\u001b[0m\u001b[37m\u001b[0m \u001b[1m6s\u001b[0m 49ms/step - accuracy: 0.9857 - loss: 0.0487 - val_accuracy: 0.9640 - val_loss: 0.0927\n",
      "Epoch 5/10\n",
      "\u001b[1m125/125\u001b[0m \u001b[32m━━━━━━━━━━━━━━━━━━━━\u001b[0m\u001b[37m\u001b[0m \u001b[1m6s\u001b[0m 47ms/step - accuracy: 0.9940 - loss: 0.0239 - val_accuracy: 0.9820 - val_loss: 0.0543\n",
      "Epoch 6/10\n",
      "\u001b[1m125/125\u001b[0m \u001b[32m━━━━━━━━━━━━━━━━━━━━\u001b[0m\u001b[37m\u001b[0m \u001b[1m6s\u001b[0m 46ms/step - accuracy: 0.9955 - loss: 0.0190 - val_accuracy: 0.9790 - val_loss: 0.0786\n",
      "Epoch 7/10\n",
      "\u001b[1m125/125\u001b[0m \u001b[32m━━━━━━━━━━━━━━━━━━━━\u001b[0m\u001b[37m\u001b[0m \u001b[1m6s\u001b[0m 45ms/step - accuracy: 0.9823 - loss: 0.0585 - val_accuracy: 0.9910 - val_loss: 0.0370\n",
      "Epoch 8/10\n",
      "\u001b[1m125/125\u001b[0m \u001b[32m━━━━━━━━━━━━━━━━━━━━\u001b[0m\u001b[37m\u001b[0m \u001b[1m6s\u001b[0m 46ms/step - accuracy: 0.9976 - loss: 0.0111 - val_accuracy: 0.9860 - val_loss: 0.0449\n",
      "Epoch 9/10\n",
      "\u001b[1m125/125\u001b[0m \u001b[32m━━━━━━━━━━━━━━━━━━━━\u001b[0m\u001b[37m\u001b[0m \u001b[1m6s\u001b[0m 44ms/step - accuracy: 0.9979 - loss: 0.0094 - val_accuracy: 0.9870 - val_loss: 0.0415\n",
      "Epoch 10/10\n",
      "\u001b[1m125/125\u001b[0m \u001b[32m━━━━━━━━━━━━━━━━━━━━\u001b[0m\u001b[37m\u001b[0m \u001b[1m5s\u001b[0m 44ms/step - accuracy: 0.9995 - loss: 0.0020 - val_accuracy: 0.9930 - val_loss: 0.0216\n"
     ]
    }
   ],
   "source": [
    "# Train the model\n",
    "history = model.fit(X_train, y_train, validation_data=(X_val, y_val), epochs=10, batch_size=32)\n"
   ]
  },
  {
   "cell_type": "code",
   "execution_count": 9,
   "id": "c8d06e9b-d514-4eb6-a65e-286493aec7ed",
   "metadata": {},
   "outputs": [
    {
     "name": "stdout",
     "output_type": "stream",
     "text": [
      "\u001b[1m1/1\u001b[0m \u001b[32m━━━━━━━━━━━━━━━━━━━━\u001b[0m\u001b[37m\u001b[0m \u001b[1m0s\u001b[0m 30ms/step - accuracy: 1.0000 - loss: 2.3842e-08\n",
      "Test Accuracy: 1.0000, Test Loss: 0.0000\n"
     ]
    }
   ],
   "source": [
    "test_loss, test_accuracy = model.evaluate(X_test_asl, y_test_asl)\n",
    "print(f'Test Accuracy: {test_accuracy:.4f}, Test Loss: {test_loss:.4f}')\n"
   ]
  },
  {
   "cell_type": "code",
   "execution_count": 10,
   "id": "4ccde825-f00c-4b2e-87fa-97cdee38f017",
   "metadata": {},
   "outputs": [
    {
     "name": "stdout",
     "output_type": "stream",
     "text": [
      "\u001b[1m1/1\u001b[0m \u001b[32m━━━━━━━━━━━━━━━━━━━━\u001b[0m\u001b[37m\u001b[0m \u001b[1m0s\u001b[0m 76ms/step\n"
     ]
    }
   ],
   "source": [
    "# Make predictions\n",
    "y_pred = np.argmax(model.predict(X_test_asl), axis=-1)"
   ]
  },
  {
   "cell_type": "code",
   "execution_count": 11,
   "id": "cf423602-7210-47ad-8b23-8e2c7f3a18fd",
   "metadata": {},
   "outputs": [
    {
     "name": "stdout",
     "output_type": "stream",
     "text": [
      "              precision    recall  f1-score   support\n",
      "\n",
      "           A       1.00      1.00      1.00         1\n",
      "           B       1.00      1.00      1.00         1\n",
      "           C       1.00      1.00      1.00         1\n",
      "           D       1.00      1.00      1.00         1\n",
      "           E       1.00      1.00      1.00         1\n",
      "\n",
      "    accuracy                           1.00         5\n",
      "   macro avg       1.00      1.00      1.00         5\n",
      "weighted avg       1.00      1.00      1.00         5\n",
      "\n"
     ]
    }
   ],
   "source": [
    "print(classification_report(y_test_asl, y_pred, target_names=list(asl_label_map.values())))"
   ]
  },
  {
   "cell_type": "code",
   "execution_count": 12,
   "id": "b0b1c3f9-b6fc-4deb-97ae-fb53d37a38e9",
   "metadata": {},
   "outputs": [
    {
     "data": {
      "image/png": "[encoded data removed]",
      "text/plain": [
       "<Figure size 1000x800 with 2 Axes>"
      ]
     },
     "metadata": {},
     "output_type": "display_data"
    }
   ],
   "source": [
    "conf_matrix = confusion_matrix(y_test_asl, y_pred)\n",
    "plt.figure(figsize=(10, 8))\n",
    "sns.heatmap(conf_matrix, annot=True, fmt='d', cmap='Blues', xticklabels=list(asl_label_map.values()), yticklabels=list(asl_label_map.values()))\n",
    "plt.ylabel('Actual')\n",
    "plt.xlabel('Predicted')\n",
    "plt.title('Confusion Matrix')\n",
    "plt.show()"
   ]
  },
  {
   "cell_type": "code",
   "execution_count": 13,
   "id": "ef0dafb0-ff3d-43a4-83e2-e5cf0af35c73",
   "metadata": {},
   "outputs": [
    {
     "name": "stderr",
     "output_type": "stream",
     "text": [
      "WARNING:absl:You are saving your model as an HDF5 file via `model.save()` or `keras.saving.save_model(model)`. This file format is considered legacy. We recommend using instead the native Keras format, e.g. `model.save('my_model.keras')` or `keras.saving.save_model(model, 'my_model.keras')`. \n"
     ]
    },
    {
     "name": "stdout",
     "output_type": "stream",
     "text": [
      "Model saved successfully.\n"
     ]
    }
   ],
   "source": [
    "# After training the model\n",
    "model.save('asl_alphabet_model.h5')\n",
    "print(\"Model saved successfully.\")\n"
   ]
  },
  {
   "cell_type": "code",
   "execution_count": null,
   "id": "0da971f1-c29c-442f-92eb-0edd7714e3a4",
   "metadata": {},
   "outputs": [],
   "source": []
  }
 ],
 "metadata": {
  "kernelspec": {
   "display_name": "Python 3 (ipykernel)",
   "language": "python",
   "name": "python3"
  },
  "language_info": {
   "codemirror_mode": {
    "name": "ipython",
    "version": 3
   },
   "file_extension": ".py",
   "mimetype": "text/x-python",
   "name": "python",
   "nbconvert_exporter": "python",
   "pygments_lexer": "ipython3",
   "version": "3.12.4"
  }
 },
 "nbformat": 4,
 "nbformat_minor": 5
}
